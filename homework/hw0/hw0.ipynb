{
 "cells": [
  {
   "cell_type": "code",
   "execution_count": 1,
   "id": "2e6368be",
   "metadata": {},
   "outputs": [
    {
     "name": "stdout",
     "output_type": "stream",
     "text": [
      "Hello World\n"
     ]
    }
   ],
   "source": [
    "print(\"Hello World\")"
   ]
  },
  {
   "cell_type": "markdown",
   "id": "23c79f47",
   "metadata": {},
   "source": [
    "**Zotero Account** - PVallapareddy2489@muleriders.saumag.edu\n",
    "\n",
    "[GitHub](https://github.com/pardha-sau/mcis6273-F22-datamining.git)"
   ]
  },
  {
   "cell_type": "markdown",
   "id": "7ee49396",
   "metadata": {},
   "source": [
    "# Semester Goals\n",
    "\n",
    "* My Goal is to learn data mining from basic to advanced.\n",
    "* I should be able to create my own ***Jupyter Notebooks in Python*** to accomplise the task.\n",
    "* I am also planning to learn *python* up to advanced."
   ]
  },
  {
   "cell_type": "markdown",
   "id": "eab20e02",
   "metadata": {},
   "source": [
    "### PLEASE ANSWER THE FOLLOWING QUESTIONS AFTER LISTENING TO THE PODCAST:\n",
    "\n",
    "\n",
    "\n",
    "**List 3 things that you learned from this podcast?**\n",
    "\n",
    "* Jupyter Notebook is a open source free tool, where we can create notebook like interface to play with data.\n",
    "* Here users as a community creating the own jupyter notebooks and they're making their own packages or libraries and sharing them openly for others to use and download.\n",
    "* JUmpter notebook is a kind of front end, but most lasting impact from jupyter is the standards that they set, how they are going to send messages back and forth to kernal, what is the format of the notbook (json structure). They have set up a standards similar to WWW, HTML Etc..\n",
    "\n",
    "\n",
    "**What is your reaction to the podcast? Pick at least one point Adam brought up in the interview that you agree with and list your reason why.**\n",
    "\n",
    "Adam has brought up many key points during the discussion and one of them is how Notebooks become source of excellent computational Narration.\n",
    "\n",
    "Notebooks are acting as a new medium to share the code which are being used for running the data analysis. Previously we used to analyse the data using excel or some statistical software tools like spss and now everything is changed to code, and just sharing a code is hard to understand.Nowadays lot of work and analysis happens through programming.Whether it might be creating a basic build package file or developing a complex application. Here in notebook, you can write a code and explain it in markdown langugage.Markdown text lines you can define through out the Notebook wherever it is required so that it is understandable to the users on how to analyze the data,code functionality and usage of the Notebook.Hence it is very useful to reproduce the similar results in their own environment easily.I agree with the Adam's point as Notebooks are the great source for well narrated explaination along with the coding,comments & conclusion.It also supports versioning hence you can include latest changes in code and the latest version is available and you can track the recent changes through history option.\n",
    "\n",
    "\n",
    "**After listening to the podcast, do you think you are more interested or less interested in learning from Jupyter notebooks on Github?**\n",
    "\n",
    "Yes, Iam very much fascinated in learing Jupyter Notebooks on github. This podcast really helped me in understanding how the Notebooks are being used in high level overview. I am very much curious to learn various data modelling techniques from github and try to recreate various Notebooks so that i can gain good hands-on experience. Github is a great platform for distributed version control system,integration with various tools,collaboration.It also has excellent community support to help users in fixing code issues,bugs and accessing required information."
   ]
  }
 ],
 "metadata": {
  "kernelspec": {
   "display_name": "Python 3.9.4 64-bit",
   "language": "python",
   "name": "python3"
  },
  "language_info": {
   "codemirror_mode": {
    "name": "ipython",
    "version": 3
   },
   "file_extension": ".py",
   "mimetype": "text/x-python",
   "name": "python",
   "nbconvert_exporter": "python",
   "pygments_lexer": "ipython3",
   "version": "3.9.4"
  },
  "vscode": {
   "interpreter": {
    "hash": "1f9f6abe1e4071c96985a722f79266aba870bba77eb89b0a5ab5b26be17d7c68"
   }
  }
 },
 "nbformat": 4,
 "nbformat_minor": 5
}
