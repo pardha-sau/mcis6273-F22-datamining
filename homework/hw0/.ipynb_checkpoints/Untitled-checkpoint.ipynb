{
 "cells": [
  {
   "cell_type": "code",
   "execution_count": 4,
   "id": "2e6368be",
   "metadata": {},
   "outputs": [
    {
     "name": "stdout",
     "output_type": "stream",
     "text": [
      "Hello World\n"
     ]
    }
   ],
   "source": [
    "print(\"Hello World\")"
   ]
  },
  {
   "cell_type": "markdown",
   "id": "23c79f47",
   "metadata": {},
   "source": [
    "**Zotero Account** - PVallapareddy2489@muleriders.saumag.edu\n",
    "\n",
    "[GitHub](https://github.com/pardha-sau/mcis6273-F22-datamining.git)"
   ]
  },
  {
   "cell_type": "markdown",
   "id": "7ee49396",
   "metadata": {},
   "source": [
    "# Semester Goals\n",
    "\n",
    "* My Goal is to learn data mining from basic to advanced.\n",
    "* I should be able to create my own **Jupyter Notebooks in Python** to accomplise the task.\n",
    "* I am also planning to learn *python* up to advanced."
   ]
  }
 ],
 "metadata": {
  "kernelspec": {
   "display_name": "Python 3.9.4 64-bit",
   "language": "python",
   "name": "python3"
  },
  "language_info": {
   "codemirror_mode": {
    "name": "ipython",
    "version": 3
   },
   "file_extension": ".py",
   "mimetype": "text/x-python",
   "name": "python",
   "nbconvert_exporter": "python",
   "pygments_lexer": "ipython3",
   "version": "3.9.4"
  },
  "vscode": {
   "interpreter": {
    "hash": "1f9f6abe1e4071c96985a722f79266aba870bba77eb89b0a5ab5b26be17d7c68"
   }
  }
 },
 "nbformat": 4,
 "nbformat_minor": 5
}
